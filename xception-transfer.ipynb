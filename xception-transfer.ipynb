{
 "cells": [
  {
   "cell_type": "code",
   "execution_count": 1,
   "metadata": {},
   "outputs": [
    {
     "name": "stderr",
     "output_type": "stream",
     "text": [
      "Using TensorFlow backend.\n"
     ]
    }
   ],
   "source": [
    "from sklearn.datasets import load_files       \n",
    "from keras.utils import np_utils\n",
    "import numpy as np\n",
    "from glob import glob\n",
    "\n",
    "# define function to load train, test, and validation datasets\n",
    "def load_dataset(path):\n",
    "    data = load_files(path)\n",
    "    files = np.array(data['filenames'])\n",
    "    targets = np_utils.to_categorical(np.array(data['target']))\n",
    "    return files, targets\n",
    "\n",
    "# load train, test, and validation datasets\n",
    "train_files, train_targets = load_dataset('data/train')\n",
    "valid_files, valid_targets = load_dataset('data/valid')\n",
    "test_files, test_targets = load_dataset('data/test')"
   ]
  },
  {
   "cell_type": "code",
   "execution_count": 461,
   "metadata": {},
   "outputs": [
    {
     "data": {
      "text/plain": [
       "array([  374.,  1372.,   254.])"
      ]
     },
     "execution_count": 461,
     "metadata": {},
     "output_type": "execute_result"
    }
   ],
   "source": [
    "np.sum(train_targets, axis=0)"
   ]
  },
  {
   "cell_type": "code",
   "execution_count": 39,
   "metadata": {},
   "outputs": [
    {
     "name": "stdout",
     "output_type": "stream",
     "text": [
      "data/train/nevus/ISIC_0000045.jpg [ 0.  1.  0.]\n",
      "data/train/seborrheic_keratosis/ISIC_0012214.jpg [ 0.  0.  1.]\n",
      "data/train/melanoma/ISIC_0000078.jpg [ 1.  0.  0.]\n"
     ]
    }
   ],
   "source": [
    "for i in [0, 4, 9]:\n",
    "# for i in range(10):\n",
    "    print(train_files[i], train_targets[i])"
   ]
  },
  {
   "cell_type": "code",
   "execution_count": 40,
   "metadata": {},
   "outputs": [],
   "source": [
    "melanoma_column = 0\n",
    "seborrheic_keratosis_column = 2"
   ]
  },
  {
   "cell_type": "code",
   "execution_count": 2,
   "metadata": {},
   "outputs": [
    {
     "name": "stdout",
     "output_type": "stream",
     "text": [
      "There are 2750 total images.\n",
      "\n",
      "There are 2000 training images.\n",
      "There are 150 validation images.\n",
      "There are 600 test images.\n"
     ]
    }
   ],
   "source": [
    "print('There are %s total images.\\n' % len(np.hstack([train_files, valid_files, test_files])))\n",
    "print('There are %d training images.' % len(train_files))\n",
    "print('There are %d validation images.' % len(valid_files))\n",
    "print('There are %d test images.'% len(test_files))"
   ]
  },
  {
   "cell_type": "markdown",
   "metadata": {},
   "source": [
    "## Generate Xception features"
   ]
  },
  {
   "cell_type": "code",
   "execution_count": 330,
   "metadata": {},
   "outputs": [],
   "source": [
    "from keras.preprocessing import image                  \n",
    "from tqdm import tqdm\n",
    "\n",
    "def path_to_tensor(img_path, size=(299,299)):\n",
    "    # loads RGB image as PIL.Image.Image type\n",
    "    img = image.load_img(img_path, target_size=size)\n",
    "    # convert PIL.Image.Image type to 3D tensor with shape (224, 224, 3)\n",
    "    x = image.img_to_array(img)\n",
    "    # convert 3D tensor to 4D tensor with shape (1, 224, 224, 3) and return 4D tensor\n",
    "    return np.expand_dims(x, axis=0)\n",
    "\n",
    "def paths_to_tensor(img_paths, size=(299,299)):\n",
    "    list_of_tensors = [path_to_tensor(img_path, size=size) for img_path in tqdm(img_paths)]\n",
    "    return np.vstack(list_of_tensors)"
   ]
  },
  {
   "cell_type": "code",
   "execution_count": 4,
   "metadata": {},
   "outputs": [],
   "source": [
    "from keras.models import Model\n",
    "from keras.applications.xception import preprocess_input, decode_predictions, Xception\n",
    "\n",
    "xception = Xception(weights='imagenet')\n",
    "\n",
    "xception_bottleneck = Model(inputs=xception.input, outputs=xception.get_layer('block14_sepconv2_act').output)\n",
    "\n",
    "def Xception_predict_labels(img_path):\n",
    "    # returns prediction vector for image located at img_path\n",
    "    img = preprocess_input(path_to_tensor(img_path))\n",
    "    return np.argmax(xception.predict(img))"
   ]
  },
  {
   "cell_type": "code",
   "execution_count": 326,
   "metadata": {},
   "outputs": [],
   "source": [
    "from keras.models import Model\n",
    "from keras.applications.vgg16 import preprocess_input, decode_predictions, VGG16\n",
    "\n",
    "vgg16 = VGG16(weights='imagenet')\n",
    "vgg16_bottleneck = Model(inputs=vgg16.input, outputs=vgg16.get_layer('block5_conv3').output)"
   ]
  },
  {
   "cell_type": "code",
   "execution_count": 331,
   "metadata": {
    "scrolled": true
   },
   "outputs": [
    {
     "name": "stderr",
     "output_type": "stream",
     "text": [
      "100%|██████████| 2000/2000 [04:37<00:00,  7.21it/s]\n",
      "100%|██████████| 150/150 [00:37<00:00,  4.61it/s]\n",
      "100%|██████████| 600/600 [03:53<00:00,  2.44it/s]\n"
     ]
    }
   ],
   "source": [
    "from PIL import ImageFile                            \n",
    "ImageFile.LOAD_TRUNCATED_IMAGES = True                 \n",
    "\n",
    "xception_size = (299,299)\n",
    "vgg16_size = (224,224)\n",
    "\n",
    "size = vgg16_size\n",
    "\n",
    "# pre-process the data for Keras\n",
    "train_tensors = paths_to_tensor(train_files, size=size).astype('float32')\n",
    "valid_tensors = paths_to_tensor(valid_files, size=size).astype('float32')\n",
    "test_tensors = paths_to_tensor(test_files, size=size).astype('float32')"
   ]
  },
  {
   "cell_type": "code",
   "execution_count": null,
   "metadata": {},
   "outputs": [],
   "source": [
    "tensors = {\n",
    "    'train': train_tensors,\n",
    "    'valid': valid_tensors,\n",
    "    'test': test_tensors,\n",
    "}\n",
    "np.savez('xception_tensors.npz', **tensors)"
   ]
  },
  {
   "cell_type": "code",
   "execution_count": 334,
   "metadata": {},
   "outputs": [],
   "source": [
    "tensors = {\n",
    "    'train': train_tensors,\n",
    "    'valid': valid_tensors,\n",
    "    'test': test_tensors,\n",
    "}\n",
    "np.savez('vgg16_tensors.npz', **tensors)"
   ]
  },
  {
   "cell_type": "code",
   "execution_count": 333,
   "metadata": {},
   "outputs": [
    {
     "name": "stderr",
     "output_type": "stream",
     "text": [
      "\r",
      "  0%|          | 0/3 [00:00<?, ?it/s]"
     ]
    },
    {
     "name": "stdout",
     "output_type": "stream",
     "text": [
      "test\n"
     ]
    },
    {
     "name": "stderr",
     "output_type": "stream",
     "text": [
      "100%|██████████| 3/3 [00:17<00:00,  6.91s/it]\n",
      "  0%|          | 0/9 [00:00<?, ?it/s]"
     ]
    },
    {
     "name": "stdout",
     "output_type": "stream",
     "text": [
      "train\n"
     ]
    },
    {
     "name": "stderr",
     "output_type": "stream",
     "text": [
      " 89%|████████▉ | 8/9 [00:36<00:04,  4.64s/it]\n",
      "  0%|          | 0/1 [00:00<?, ?it/s]\u001b[A"
     ]
    },
    {
     "name": "stdout",
     "output_type": "stream",
     "text": [
      "valid\n"
     ]
    },
    {
     "name": "stderr",
     "output_type": "stream",
     "text": [
      "\n",
      "100%|██████████| 1/1 [00:04<00:00,  5.00s/it]\n"
     ]
    }
   ],
   "source": [
    "def generate_bottleneck_features(model, train_data, valid_data, test_data, batch_size=250):\n",
    "    # Set the batch size higher if you can fit in in your GPU memory\n",
    "    batch_size = 250\n",
    "    datasets = {\n",
    "        'train': train_data,\n",
    "        'valid': valid_data,\n",
    "        'test': test_data,    \n",
    "    }\n",
    "    bottleneck_features = {\n",
    "        'train': None,\n",
    "        'valid': None,\n",
    "        'test': None,\n",
    "    }\n",
    "    for name, files in datasets.items():\n",
    "        print(name)\n",
    "        num_batches = len(files)//batch_size + 1\n",
    "        for i in tqdm(range(num_batches)):\n",
    "            s = i*batch_size\n",
    "            e = (i+1)*batch_size\n",
    "            if s >= len(files):\n",
    "                break\n",
    "            input_ = preprocess_input(files[s:e])\n",
    "            features = model.predict(input_)\n",
    "            bottleneck_features[name] = np.concatenate((bottleneck_features[name], features)) if bottleneck_features[name] is not None else features\n",
    "\n",
    "    return bottleneck_features\n",
    "\n",
    "# xception_bottleneck_features = generate_bottleneck_features(xception_bottleneck, train_tensors, valid_tensors, test_tensors)\n",
    "# np.savez('xception_bottleneck_features.npz', **xception_bottleneck_features)\n",
    "\n",
    "vgg16_bottleneck_features = generate_bottleneck_features(vgg16_bottleneck, train_tensors, valid_tensors, test_tensors)\n",
    "np.savez('vgg16_bottleneck_features.npz', **vgg16_bottleneck_features)"
   ]
  },
  {
   "cell_type": "markdown",
   "metadata": {},
   "source": [
    "## Load saved features"
   ]
  },
  {
   "cell_type": "code",
   "execution_count": 335,
   "metadata": {},
   "outputs": [],
   "source": [
    "tensors = np.load('vgg16_tensors.npz')\n",
    "train_tensors = tensors['train']\n",
    "valid_tensors = tensors['valid']\n",
    "test_tensors = tensors['test']\n",
    "\n",
    "bottleneck_features = np.load('vgg16_bottleneck_features.npz')\n",
    "train_features = bottleneck_features['train']\n",
    "valid_features = bottleneck_features['valid']\n",
    "test_features = bottleneck_features['test']"
   ]
  },
  {
   "cell_type": "code",
   "execution_count": 336,
   "metadata": {},
   "outputs": [
    {
     "data": {
      "text/plain": [
       "(2000, 14, 14, 512)"
      ]
     },
     "execution_count": 336,
     "metadata": {},
     "output_type": "execute_result"
    }
   ],
   "source": [
    "train_features.shape"
   ]
  },
  {
   "cell_type": "code",
   "execution_count": 337,
   "metadata": {},
   "outputs": [
    {
     "data": {
      "text/plain": [
       "(2000, 3)"
      ]
     },
     "execution_count": 337,
     "metadata": {},
     "output_type": "execute_result"
    }
   ],
   "source": [
    "train_targets.shape"
   ]
  },
  {
   "cell_type": "markdown",
   "metadata": {},
   "source": [
    "## Xception model"
   ]
  },
  {
   "cell_type": "code",
   "execution_count": 321,
   "metadata": {},
   "outputs": [
    {
     "name": "stdout",
     "output_type": "stream",
     "text": [
      "_________________________________________________________________\n",
      "Layer (type)                 Output Shape              Param #   \n",
      "=================================================================\n",
      "global_average_pooling2d_12  (None, 2048)              0         \n",
      "_________________________________________________________________\n",
      "dense_79 (Dense)             (None, 512)               1049088   \n",
      "_________________________________________________________________\n",
      "dropout_124 (Dropout)        (None, 512)               0         \n",
      "_________________________________________________________________\n",
      "dense_80 (Dense)             (None, 128)               65664     \n",
      "_________________________________________________________________\n",
      "dropout_125 (Dropout)        (None, 128)               0         \n",
      "_________________________________________________________________\n",
      "dense_81 (Dense)             (None, 32)                4128      \n",
      "_________________________________________________________________\n",
      "dropout_126 (Dropout)        (None, 32)                0         \n",
      "_________________________________________________________________\n",
      "dense_82 (Dense)             (None, 3)                 99        \n",
      "=================================================================\n",
      "Total params: 1,118,979.0\n",
      "Trainable params: 1,118,979.0\n",
      "Non-trainable params: 0.0\n",
      "_________________________________________________________________\n"
     ]
    }
   ],
   "source": [
    "from keras.layers import Dense, GlobalAveragePooling2D, Conv2D, MaxPool2D, Flatten, Dropout, UpSampling2D\n",
    "from keras.models import Sequential\n",
    "from keras.initializers import TruncatedNormal\n",
    "\n",
    "input_shape=(10,10,2048)\n",
    "conv_kernel_size = (2,2)\n",
    "dropout = 0.25\n",
    "init_stddev= 1.0\n",
    "\n",
    "model = Sequential()\n",
    "\n",
    "# model.add(Conv2D(8, conv_kernel_size, activation='relu', padding='same', input_shape=input_shape))\n",
    "# model.add(Dropout(dropout))\n",
    "# model.add(Conv2D(8, conv_kernel_size, activation='relu', padding='same'))\n",
    "# # model.add(MaxPool2D(pool_size=(2,2)))\n",
    "# model.add(Dropout(dropout))\n",
    "\n",
    "# model.add(Conv2D(16, conv_kernel_size, activation='relu', padding='same'))\n",
    "# model.add(Dropout(dropout))\n",
    "# model.add(Conv2D(16, conv_kernel_size, activation='relu', padding='same'))\n",
    "# model.add(MaxPool2D(pool_size=(2,2)))\n",
    "# model.add(Dropout(dropout))\n",
    "\n",
    "# model.add(Conv2D(32, conv_kernel_size, activation='relu', padding='same'))\n",
    "# model.add(Dropout(dropout))\n",
    "# model.add(Conv2D(32, conv_kernel_size, activation='relu', padding='same'))\n",
    "# model.add(MaxPool2D(pool_size=(2,2)))\n",
    "# model.add(Flatten())\n",
    "# model.add(Dropout(dropout))\n",
    "\n",
    "# model.add(Conv2D(128, conv_kernel_size, activation='relu', padding='same'))\n",
    "# model.add(Dropout(dropout))\n",
    "# model.add(Conv2D(128, conv_kernel_size, activation='relu', padding='same'))\n",
    "# model.add(MaxPool2D(pool_size=(2,2)))\n",
    "# model.add(Flatten())\n",
    "# model.add(Dropout(dropout))\n",
    "\n",
    "model.add(GlobalAveragePooling2D(input_shape=(10,10,2048)))\n",
    "\n",
    "model.add(Dense(512, activation='relu', kernel_initializer=TruncatedNormal(stddev=init_stddev)))\n",
    "model.add(Dropout(dropout))\n",
    "\n",
    "model.add(Dense(128, activation='relu', kernel_initializer=TruncatedNormal(stddev=init_stddev)))\n",
    "model.add(Dropout(dropout))\n",
    "\n",
    "model.add(Dense(32, activation='relu', kernel_initializer=TruncatedNormal(stddev=init_stddev)))\n",
    "model.add(Dropout(dropout))\n",
    "\n",
    "model.add(Dense(3, activation='softmax', kernel_initializer=TruncatedNormal(stddev=init_stddev)))\n",
    "\n",
    "model.summary()\n"
   ]
  },
  {
   "cell_type": "markdown",
   "metadata": {},
   "source": [
    "## VGG16 Model"
   ]
  },
  {
   "cell_type": "code",
   "execution_count": 438,
   "metadata": {},
   "outputs": [
    {
     "name": "stdout",
     "output_type": "stream",
     "text": [
      "_________________________________________________________________\n",
      "Layer (type)                 Output Shape              Param #   \n",
      "=================================================================\n",
      "global_average_pooling2d_20  (None, 512)               0         \n",
      "_________________________________________________________________\n",
      "dropout_147 (Dropout)        (None, 512)               0         \n",
      "_________________________________________________________________\n",
      "dense_106 (Dense)            (None, 256)               131328    \n",
      "_________________________________________________________________\n",
      "dropout_148 (Dropout)        (None, 256)               0         \n",
      "_________________________________________________________________\n",
      "dense_107 (Dense)            (None, 32)                8224      \n",
      "_________________________________________________________________\n",
      "dropout_149 (Dropout)        (None, 32)                0         \n",
      "_________________________________________________________________\n",
      "dense_108 (Dense)            (None, 3)                 99        \n",
      "=================================================================\n",
      "Total params: 139,651.0\n",
      "Trainable params: 139,651.0\n",
      "Non-trainable params: 0.0\n",
      "_________________________________________________________________\n"
     ]
    }
   ],
   "source": [
    "from keras.layers import Dense, GlobalAveragePooling2D, Conv2D, MaxPool2D, Flatten, Dropout, UpSampling2D\n",
    "from keras.models import Sequential\n",
    "from keras.initializers import TruncatedNormal\n",
    "\n",
    "input_shape=train_features.shape[1:]\n",
    "conv_kernel_size = (2,2)\n",
    "dropout = 0.25\n",
    "init_stddev= 1.0\n",
    "\n",
    "model = Sequential()\n",
    "\n",
    "model.add(GlobalAveragePooling2D(input_shape=input_shape))\n",
    "model.add(Dropout(dropout))\n",
    "model.add(Dense(256, activation='relu'))\n",
    "model.add(Dropout(dropout))\n",
    "model.add(Dense(32, activation='relu'))\n",
    "model.add(Dropout(dropout))\n",
    "model.add(Dense(3, activation='softmax'))\n",
    "\n",
    "model.summary()"
   ]
  },
  {
   "cell_type": "code",
   "execution_count": 458,
   "metadata": {},
   "outputs": [
    {
     "ename": "TypeError",
     "evalue": "categorical_crossentropy() missing 2 required positional arguments: 'y_true' and 'y_pred'",
     "output_type": "error",
     "traceback": [
      "\u001b[0;31m---------------------------------------------------------------------------\u001b[0m",
      "\u001b[0;31mTypeError\u001b[0m                                 Traceback (most recent call last)",
      "\u001b[0;32m<ipython-input-458-a7eded09642b>\u001b[0m in \u001b[0;36m<module>\u001b[0;34m()\u001b[0m\n\u001b[1;32m      1\u001b[0m \u001b[0;32mfrom\u001b[0m \u001b[0mkeras\u001b[0m\u001b[0;34m.\u001b[0m\u001b[0mlosses\u001b[0m \u001b[0;32mimport\u001b[0m \u001b[0mcategorical_crossentropy\u001b[0m\u001b[0;34m\u001b[0m\u001b[0m\n\u001b[0;32m----> 2\u001b[0;31m \u001b[0mcategorical_crossentropy\u001b[0m\u001b[0;34m(\u001b[0m\u001b[0;34m)\u001b[0m\u001b[0;34m\u001b[0m\u001b[0m\n\u001b[0m",
      "\u001b[0;31mTypeError\u001b[0m: categorical_crossentropy() missing 2 required positional arguments: 'y_true' and 'y_pred'"
     ]
    }
   ],
   "source": [
    "from keras.losses import categorical_crossentropy\n",
    "categorical_crossentropy()\n",
    "\n",
    "from keras import backend as K\n",
    "\n",
    "def weighted_categorical_cross_entropy(y_true, y_pred):\n",
    "    return K.mean(K.square(y_pred - y_true), axis=-1)\n"
   ]
  },
  {
   "cell_type": "code",
   "execution_count": 439,
   "metadata": {},
   "outputs": [],
   "source": [
    "model.compile(optimizer='rmsprop', loss='categorical_crossentropy', metrics=['accuracy'])"
   ]
  },
  {
   "cell_type": "code",
   "execution_count": 454,
   "metadata": {},
   "outputs": [
    {
     "name": "stdout",
     "output_type": "stream",
     "text": [
      "Train on 2000 samples, validate on 150 samples\n",
      "Epoch 1/20\n",
      "Epoch 00000: val_loss improved from inf to 0.72826, saving model to weights.best.from_scratch.hdf5\n",
      "2000/2000 [==============================] - 1s - loss: 0.6273 - acc: 0.7315 - val_loss: 0.7283 - val_acc: 0.6600\n",
      "Epoch 2/20\n",
      "Epoch 00001: val_loss improved from 0.72826 to 0.72718, saving model to weights.best.from_scratch.hdf5\n",
      "2000/2000 [==============================] - 1s - loss: 0.6337 - acc: 0.7260 - val_loss: 0.7272 - val_acc: 0.6667\n",
      "Epoch 3/20\n",
      "Epoch 00002: val_loss did not improve\n",
      "2000/2000 [==============================] - 1s - loss: 0.6421 - acc: 0.7305 - val_loss: 0.7395 - val_acc: 0.6400\n",
      "Epoch 4/20\n",
      "Epoch 00003: val_loss improved from 0.72718 to 0.71431, saving model to weights.best.from_scratch.hdf5\n",
      "2000/2000 [==============================] - 1s - loss: 0.6227 - acc: 0.7330 - val_loss: 0.7143 - val_acc: 0.6733\n",
      "Epoch 5/20\n",
      "Epoch 00004: val_loss did not improve\n",
      "2000/2000 [==============================] - 1s - loss: 0.6317 - acc: 0.7380 - val_loss: 0.7356 - val_acc: 0.6533\n",
      "Epoch 6/20\n",
      "Epoch 00005: val_loss did not improve\n",
      "2000/2000 [==============================] - 1s - loss: 0.6323 - acc: 0.7325 - val_loss: 0.7284 - val_acc: 0.6667\n",
      "Epoch 7/20\n",
      "Epoch 00006: val_loss did not improve\n",
      "2000/2000 [==============================] - 1s - loss: 0.6389 - acc: 0.7160 - val_loss: 0.7573 - val_acc: 0.6400\n",
      "Epoch 8/20\n",
      "Epoch 00007: val_loss did not improve\n",
      "2000/2000 [==============================] - 1s - loss: 0.6106 - acc: 0.7420 - val_loss: 0.7179 - val_acc: 0.6667\n",
      "Epoch 9/20\n",
      "Epoch 00008: val_loss did not improve\n",
      "2000/2000 [==============================] - 1s - loss: 0.6002 - acc: 0.7500 - val_loss: 0.7239 - val_acc: 0.6667\n",
      "Epoch 10/20\n",
      "Epoch 00009: val_loss improved from 0.71431 to 0.69897, saving model to weights.best.from_scratch.hdf5\n",
      "2000/2000 [==============================] - 1s - loss: 0.5872 - acc: 0.7470 - val_loss: 0.6990 - val_acc: 0.6667\n",
      "Epoch 11/20\n",
      "Epoch 00010: val_loss did not improve\n",
      "2000/2000 [==============================] - 1s - loss: 0.5957 - acc: 0.7335 - val_loss: 0.7271 - val_acc: 0.6533\n",
      "Epoch 12/20\n",
      "Epoch 00011: val_loss did not improve\n",
      "2000/2000 [==============================] - 1s - loss: 0.5971 - acc: 0.7475 - val_loss: 0.7101 - val_acc: 0.6600\n",
      "Epoch 13/20\n",
      "Epoch 00012: val_loss did not improve\n",
      "2000/2000 [==============================] - 1s - loss: 0.6091 - acc: 0.7450 - val_loss: 0.7301 - val_acc: 0.6600\n",
      "Epoch 14/20\n",
      "Epoch 00013: val_loss did not improve\n",
      "2000/2000 [==============================] - 1s - loss: 0.6077 - acc: 0.7480 - val_loss: 0.7026 - val_acc: 0.6667\n",
      "Epoch 15/20\n",
      "Epoch 00014: val_loss did not improve\n",
      "2000/2000 [==============================] - 1s - loss: 0.5924 - acc: 0.7375 - val_loss: 0.7104 - val_acc: 0.6600\n",
      "Epoch 16/20\n",
      "Epoch 00015: val_loss improved from 0.69897 to 0.68914, saving model to weights.best.from_scratch.hdf5\n",
      "2000/2000 [==============================] - 1s - loss: 0.5960 - acc: 0.7435 - val_loss: 0.6891 - val_acc: 0.6867\n",
      "Epoch 17/20\n",
      "Epoch 00016: val_loss did not improve\n",
      "2000/2000 [==============================] - 1s - loss: 0.5962 - acc: 0.7435 - val_loss: 0.7162 - val_acc: 0.6667\n",
      "Epoch 18/20\n",
      "Epoch 00017: val_loss did not improve\n",
      "2000/2000 [==============================] - 1s - loss: 0.6023 - acc: 0.7500 - val_loss: 0.7166 - val_acc: 0.6800\n",
      "Epoch 19/20\n",
      "Epoch 00018: val_loss did not improve\n",
      "2000/2000 [==============================] - 1s - loss: 0.5796 - acc: 0.7575 - val_loss: 0.7347 - val_acc: 0.6467\n",
      "Epoch 20/20\n",
      "Epoch 00019: val_loss did not improve\n",
      "2000/2000 [==============================] - 1s - loss: 0.5785 - acc: 0.7540 - val_loss: 0.7233 - val_acc: 0.6667\n"
     ]
    },
    {
     "data": {
      "text/plain": [
       "<keras.callbacks.History at 0x7f2e61cf1710>"
      ]
     },
     "execution_count": 454,
     "metadata": {},
     "output_type": "execute_result"
    }
   ],
   "source": [
    "from keras.callbacks import ModelCheckpoint  \n",
    "\n",
    "### TODO: specify the number of epochs that you would like to use to train the model.\n",
    "\n",
    "epochs = 20\n",
    "batch_size = 2000\n",
    "\n",
    "### Do NOT modify the code below this line.\n",
    "\n",
    "checkpointer = ModelCheckpoint(filepath='weights.best.from_scratch.hdf5', \n",
    "                               verbose=1, save_best_only=True)\n",
    "\n",
    "model.fit(train_features, train_targets, \n",
    "          validation_data=(valid_features, valid_targets),\n",
    "          epochs=epochs, batch_size=batch_size, callbacks=[checkpointer], verbose=1, shuffle=True)"
   ]
  },
  {
   "cell_type": "code",
   "execution_count": 455,
   "metadata": {},
   "outputs": [],
   "source": [
    "model.load_weights('weights.best.from_scratch.hdf5')"
   ]
  },
  {
   "cell_type": "code",
   "execution_count": 344,
   "metadata": {},
   "outputs": [],
   "source": [
    "output_idx = [r[1] for r in sorted(list(zip(list(test_files), list(range(len(test_files))))), key=lambda r: r[0])]"
   ]
  },
  {
   "cell_type": "code",
   "execution_count": 456,
   "metadata": {},
   "outputs": [],
   "source": [
    "test_predictions = model.predict(test_features[output_idx])[:, [melanoma_column, seborrheic_keratosis_column]]"
   ]
  },
  {
   "cell_type": "code",
   "execution_count": 346,
   "metadata": {},
   "outputs": [
    {
     "data": {
      "text/plain": [
       "array([[ 0.05671496,  0.08150036],\n",
       "       [ 0.48196989,  0.12287907],\n",
       "       [ 0.58334613,  0.16035521],\n",
       "       ..., \n",
       "       [ 0.06566709,  0.42860854],\n",
       "       [ 0.16124207,  0.09530972],\n",
       "       [ 0.04624396,  0.90572876]], dtype=float32)"
      ]
     },
     "execution_count": 346,
     "metadata": {},
     "output_type": "execute_result"
    }
   ],
   "source": [
    "test_predictions"
   ]
  },
  {
   "cell_type": "code",
   "execution_count": 49,
   "metadata": {},
   "outputs": [],
   "source": [
    "out_csv = np.concatenate((test_files[output_idx, None], test_predictions[:, [melanoma_column, seborrheic_keratosis_column]]), axis=1)"
   ]
  },
  {
   "cell_type": "code",
   "execution_count": 457,
   "metadata": {},
   "outputs": [
    {
     "data": {
      "image/png": "[encoded data removed]",
      "text/plain": [
       "<matplotlib.figure.Figure at 0x7f2e61ce9668>"
      ]
     },
     "metadata": {},
     "output_type": "display_data"
    },
    {
     "name": "stdout",
     "output_type": "stream",
     "text": [
      "Category 1 Score: 0.706\n",
      "Category 2 Score: 0.868\n",
      "Category 3 Score: 0.787\n"
     ]
    }
   ],
   "source": [
    "from get_results import get_ground_truth, plot_roc_auc, plot_confusion_matrix\n",
    "\n",
    "y_true = get_ground_truth()\n",
    "\n",
    "plot_roc_auc(y_true, test_predictions)"
   ]
  },
  {
   "cell_type": "code",
   "execution_count": 415,
   "metadata": {},
   "outputs": [],
   "source": [
    "def step(x, threshold=0):\n",
    "    return np.sign(np.sign(x-threshold)+1)\n",
    "\n",
    "def minimum_cost_threshold(y_true, y_pred, costs=(1, 1)):\n",
    "    '''\n",
    "    Find the decision threshold that minimizes the cost of errors.\n",
    "    \n",
    "    costs=(false_positive_cost, false_negative_cost)\n",
    "    '''\n",
    "    def error(x, costs):\n",
    "        return costs[0]*step(-x, 0.99) + costs[1]*step(x,0.99)\n",
    "    costs = np.array(costs)\n",
    "    costs = costs/np.sum(costs)\n",
    "    min_cost = np.inf\n",
    "    min_threshold = 0\n",
    "    for threshold in np.arange(0, 1, 0.001):\n",
    "        y_pred_bin = np.ceil(y_pred - threshold)\n",
    "#         cost = np.abs(y_true - y_pred_bin)*np.apply_along_axis(lambda i: costs[i[0]], 0, y_true)\n",
    "        cost = error(y_true-y_pred_bin, costs)\n",
    "        if np.mean(cost) < min_cost:\n",
    "#             print(cost[:10])\n",
    "            min_cost = np.mean(cost)\n",
    "            min_threshold = threshold\n",
    "    return min_threshold\n",
    "\n",
    "def plot_best_confusion_matrix(y_true, y_pred, costs=(1,1)):\n",
    "    threshold = minimum_cost_threshold(y_true, y_pred, costs=costs)\n",
    "    print('Best threshold: %0.2f' % threshold)\n",
    "    plot_confusion_matrix(y_true, y_pred, threshold)"
   ]
  },
  {
   "cell_type": "markdown",
   "metadata": {},
   "source": [
    "## Melanoma Confusion"
   ]
  },
  {
   "cell_type": "code",
   "execution_count": 452,
   "metadata": {},
   "outputs": [
    {
     "name": "stdout",
     "output_type": "stream",
     "text": [
      "Best threshold: 0.11\n"
     ]
    },
    {
     "data": {
      "image/png": "[encoded data removed]",
      "text/plain": [
       "<matplotlib.figure.Figure at 0x7f2e61ea0a90>"
      ]
     },
     "metadata": {},
     "output_type": "display_data"
    }
   ],
   "source": [
    "plot_best_confusion_matrix(y_true[:, 0], test_predictions[:, 0], costs=(1,10))"
   ]
  },
  {
   "cell_type": "markdown",
   "metadata": {},
   "source": [
    "## Seborrheic Keratosis Confusion"
   ]
  },
  {
   "cell_type": "code",
   "execution_count": 453,
   "metadata": {},
   "outputs": [
    {
     "name": "stdout",
     "output_type": "stream",
     "text": [
      "Best threshold: 0.23\n"
     ]
    },
    {
     "data": {
      "image/png": "[encoded data removed]",
      "text/plain": [
       "<matplotlib.figure.Figure at 0x7f2e6274eba8>"
      ]
     },
     "metadata": {},
     "output_type": "display_data"
    }
   ],
   "source": [
    "plot_best_confusion_matrix(y_true[:, 1], test_predictions[:, 1], costs=(1,10))"
   ]
  },
  {
   "cell_type": "code",
   "execution_count": null,
   "metadata": {},
   "outputs": [],
   "source": []
  }
 ],
 "metadata": {
  "kernelspec": {
   "display_name": "Python 3",
   "language": "python",
   "name": "python3"
  },
  "language_info": {
   "codemirror_mode": {
    "name": "ipython",
    "version": 3
   },
   "file_extension": ".py",
   "mimetype": "text/x-python",
   "name": "python",
   "nbconvert_exporter": "python",
   "pygments_lexer": "ipython3",
   "version": "3.5.2"
  }
 },
 "nbformat": 4,
 "nbformat_minor": 2
}
